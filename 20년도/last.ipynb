{
 "cells": [
  {
   "cell_type": "code",
   "execution_count": 1,
   "id": "ada494a2",
   "metadata": {},
   "outputs": [
    {
     "data": {
      "text/plain": "            남성연령_20  남성연령_30  남성연령_40  남성연령_50  남성연령_60  남성연령_70  여성연령_20  \\\n자치구코드 월                                                                     \n강남구   1.0   59927.0  89351.0  86963.0  56402.0  34891.0  28316.0  85788.0   \n      2.0   61406.0  93850.0  91857.0  58761.0  35518.0  28363.0  88513.0   \n      3.0   57106.0  87217.0  88324.0  57082.0  34601.0  27431.0  81156.0   \n      4.0   56987.0  86281.0  87066.0  56279.0  33758.0  26944.0  80825.0   \n      5.0   57031.0  86015.0  86085.0  55832.0  33494.0  26682.0  81021.0   \n...             ...      ...      ...      ...      ...      ...      ...   \n중랑구   8.0   21599.0  24836.0  25629.0  26806.0  20031.0  17667.0  24387.0   \n      9.0   21828.0  25313.0  25961.0  26916.0  20078.0  17724.0  24878.0   \n      10.0  21503.0  24922.0  25785.0  26649.0  19863.0  17608.0  24147.0   \n      11.0  21225.0  24593.0  25236.0  26409.0  19898.0  17524.0  23869.0   \n      12.0  21657.0  25649.0  25888.0  26813.0  20307.0  18005.0  24833.0   \n\n            여성연령_30  여성연령_40  여성연령_50  여성연령_60  여성연령_70      외국인  \n자치구코드 월                                                           \n강남구   1.0   88581.0  74374.0  52189.0  43429.0  41952.0  40941.0  \n      2.0   92511.0  77102.0  53360.0  43990.0  42682.0  38894.0  \n      3.0   85747.0  74291.0  51754.0  42375.0  41187.0  32325.0  \n      4.0   85702.0  73831.0  51293.0  41691.0  40543.0  31180.0  \n      5.0   86258.0  73943.0  51312.0  41512.0  40226.0  30539.0  \n...             ...      ...      ...      ...      ...      ...  \n중랑구   8.0   26633.0  26587.0  31734.0  25215.0  28095.0   6831.0  \n      9.0   27385.0  27143.0  32075.0  25497.0  28077.0   6885.0  \n      10.0  26916.0  26862.0  31646.0  25183.0  27711.0   6927.0  \n      11.0  26726.0  26625.0  31758.0  25133.0  27826.0   6957.0  \n      12.0  27584.0  26947.0  32165.0  25636.0  28241.0   6911.0  \n\n[300 rows x 13 columns]",
      "text/html": "<div>\n<style scoped>\n    .dataframe tbody tr th:only-of-type {\n        vertical-align: middle;\n    }\n\n    .dataframe tbody tr th {\n        vertical-align: top;\n    }\n\n    .dataframe thead th {\n        text-align: right;\n    }\n</style>\n<table border=\"1\" class=\"dataframe\">\n  <thead>\n    <tr style=\"text-align: right;\">\n      <th></th>\n      <th></th>\n      <th>남성연령_20</th>\n      <th>남성연령_30</th>\n      <th>남성연령_40</th>\n      <th>남성연령_50</th>\n      <th>남성연령_60</th>\n      <th>남성연령_70</th>\n      <th>여성연령_20</th>\n      <th>여성연령_30</th>\n      <th>여성연령_40</th>\n      <th>여성연령_50</th>\n      <th>여성연령_60</th>\n      <th>여성연령_70</th>\n      <th>외국인</th>\n    </tr>\n    <tr>\n      <th>자치구코드</th>\n      <th>월</th>\n      <th></th>\n      <th></th>\n      <th></th>\n      <th></th>\n      <th></th>\n      <th></th>\n      <th></th>\n      <th></th>\n      <th></th>\n      <th></th>\n      <th></th>\n      <th></th>\n      <th></th>\n    </tr>\n  </thead>\n  <tbody>\n    <tr>\n      <th rowspan=\"5\" valign=\"top\">강남구</th>\n      <th>1.0</th>\n      <td>59927.0</td>\n      <td>89351.0</td>\n      <td>86963.0</td>\n      <td>56402.0</td>\n      <td>34891.0</td>\n      <td>28316.0</td>\n      <td>85788.0</td>\n      <td>88581.0</td>\n      <td>74374.0</td>\n      <td>52189.0</td>\n      <td>43429.0</td>\n      <td>41952.0</td>\n      <td>40941.0</td>\n    </tr>\n    <tr>\n      <th>2.0</th>\n      <td>61406.0</td>\n      <td>93850.0</td>\n      <td>91857.0</td>\n      <td>58761.0</td>\n      <td>35518.0</td>\n      <td>28363.0</td>\n      <td>88513.0</td>\n      <td>92511.0</td>\n      <td>77102.0</td>\n      <td>53360.0</td>\n      <td>43990.0</td>\n      <td>42682.0</td>\n      <td>38894.0</td>\n    </tr>\n    <tr>\n      <th>3.0</th>\n      <td>57106.0</td>\n      <td>87217.0</td>\n      <td>88324.0</td>\n      <td>57082.0</td>\n      <td>34601.0</td>\n      <td>27431.0</td>\n      <td>81156.0</td>\n      <td>85747.0</td>\n      <td>74291.0</td>\n      <td>51754.0</td>\n      <td>42375.0</td>\n      <td>41187.0</td>\n      <td>32325.0</td>\n    </tr>\n    <tr>\n      <th>4.0</th>\n      <td>56987.0</td>\n      <td>86281.0</td>\n      <td>87066.0</td>\n      <td>56279.0</td>\n      <td>33758.0</td>\n      <td>26944.0</td>\n      <td>80825.0</td>\n      <td>85702.0</td>\n      <td>73831.0</td>\n      <td>51293.0</td>\n      <td>41691.0</td>\n      <td>40543.0</td>\n      <td>31180.0</td>\n    </tr>\n    <tr>\n      <th>5.0</th>\n      <td>57031.0</td>\n      <td>86015.0</td>\n      <td>86085.0</td>\n      <td>55832.0</td>\n      <td>33494.0</td>\n      <td>26682.0</td>\n      <td>81021.0</td>\n      <td>86258.0</td>\n      <td>73943.0</td>\n      <td>51312.0</td>\n      <td>41512.0</td>\n      <td>40226.0</td>\n      <td>30539.0</td>\n    </tr>\n    <tr>\n      <th>...</th>\n      <th>...</th>\n      <td>...</td>\n      <td>...</td>\n      <td>...</td>\n      <td>...</td>\n      <td>...</td>\n      <td>...</td>\n      <td>...</td>\n      <td>...</td>\n      <td>...</td>\n      <td>...</td>\n      <td>...</td>\n      <td>...</td>\n      <td>...</td>\n    </tr>\n    <tr>\n      <th rowspan=\"5\" valign=\"top\">중랑구</th>\n      <th>8.0</th>\n      <td>21599.0</td>\n      <td>24836.0</td>\n      <td>25629.0</td>\n      <td>26806.0</td>\n      <td>20031.0</td>\n      <td>17667.0</td>\n      <td>24387.0</td>\n      <td>26633.0</td>\n      <td>26587.0</td>\n      <td>31734.0</td>\n      <td>25215.0</td>\n      <td>28095.0</td>\n      <td>6831.0</td>\n    </tr>\n    <tr>\n      <th>9.0</th>\n      <td>21828.0</td>\n      <td>25313.0</td>\n      <td>25961.0</td>\n      <td>26916.0</td>\n      <td>20078.0</td>\n      <td>17724.0</td>\n      <td>24878.0</td>\n      <td>27385.0</td>\n      <td>27143.0</td>\n      <td>32075.0</td>\n      <td>25497.0</td>\n      <td>28077.0</td>\n      <td>6885.0</td>\n    </tr>\n    <tr>\n      <th>10.0</th>\n      <td>21503.0</td>\n      <td>24922.0</td>\n      <td>25785.0</td>\n      <td>26649.0</td>\n      <td>19863.0</td>\n      <td>17608.0</td>\n      <td>24147.0</td>\n      <td>26916.0</td>\n      <td>26862.0</td>\n      <td>31646.0</td>\n      <td>25183.0</td>\n      <td>27711.0</td>\n      <td>6927.0</td>\n    </tr>\n    <tr>\n      <th>11.0</th>\n      <td>21225.0</td>\n      <td>24593.0</td>\n      <td>25236.0</td>\n      <td>26409.0</td>\n      <td>19898.0</td>\n      <td>17524.0</td>\n      <td>23869.0</td>\n      <td>26726.0</td>\n      <td>26625.0</td>\n      <td>31758.0</td>\n      <td>25133.0</td>\n      <td>27826.0</td>\n      <td>6957.0</td>\n    </tr>\n    <tr>\n      <th>12.0</th>\n      <td>21657.0</td>\n      <td>25649.0</td>\n      <td>25888.0</td>\n      <td>26813.0</td>\n      <td>20307.0</td>\n      <td>18005.0</td>\n      <td>24833.0</td>\n      <td>27584.0</td>\n      <td>26947.0</td>\n      <td>32165.0</td>\n      <td>25636.0</td>\n      <td>28241.0</td>\n      <td>6911.0</td>\n    </tr>\n  </tbody>\n</table>\n<p>300 rows × 13 columns</p>\n</div>"
     },
     "execution_count": 1,
     "metadata": {},
     "output_type": "execute_result"
    }
   ],
   "source": [
    "import pandas as pd\n",
    "\n",
    "people = pd.read_csv('2020전처리.csv', index_col=[0,1])\n",
    "rate = pd.read_csv('2020흡연율.csv', index_col=0)\n",
    "\n",
    "people"
   ]
  },
  {
   "cell_type": "code",
   "execution_count": 2,
   "id": "c7d477cd",
   "metadata": {},
   "outputs": [
    {
     "data": {
      "text/plain": "       흡연율\n성연령별      \n남성20  32.0\n남성30  35.8\n남성40  41.5\n남성50  36.5\n남성60  27.3\n남성70  15.0\n여성20  10.9\n여성30   8.8\n여성40   5.7\n여성50   2.0\n여성60   4.3\n여성70   1.7\n외국인   19.2",
      "text/html": "<div>\n<style scoped>\n    .dataframe tbody tr th:only-of-type {\n        vertical-align: middle;\n    }\n\n    .dataframe tbody tr th {\n        vertical-align: top;\n    }\n\n    .dataframe thead th {\n        text-align: right;\n    }\n</style>\n<table border=\"1\" class=\"dataframe\">\n  <thead>\n    <tr style=\"text-align: right;\">\n      <th></th>\n      <th>흡연율</th>\n    </tr>\n    <tr>\n      <th>성연령별</th>\n      <th></th>\n    </tr>\n  </thead>\n  <tbody>\n    <tr>\n      <th>남성20</th>\n      <td>32.0</td>\n    </tr>\n    <tr>\n      <th>남성30</th>\n      <td>35.8</td>\n    </tr>\n    <tr>\n      <th>남성40</th>\n      <td>41.5</td>\n    </tr>\n    <tr>\n      <th>남성50</th>\n      <td>36.5</td>\n    </tr>\n    <tr>\n      <th>남성60</th>\n      <td>27.3</td>\n    </tr>\n    <tr>\n      <th>남성70</th>\n      <td>15.0</td>\n    </tr>\n    <tr>\n      <th>여성20</th>\n      <td>10.9</td>\n    </tr>\n    <tr>\n      <th>여성30</th>\n      <td>8.8</td>\n    </tr>\n    <tr>\n      <th>여성40</th>\n      <td>5.7</td>\n    </tr>\n    <tr>\n      <th>여성50</th>\n      <td>2.0</td>\n    </tr>\n    <tr>\n      <th>여성60</th>\n      <td>4.3</td>\n    </tr>\n    <tr>\n      <th>여성70</th>\n      <td>1.7</td>\n    </tr>\n    <tr>\n      <th>외국인</th>\n      <td>19.2</td>\n    </tr>\n  </tbody>\n</table>\n</div>"
     },
     "execution_count": 2,
     "metadata": {},
     "output_type": "execute_result"
    }
   ],
   "source": [
    "rate"
   ]
  },
  {
   "cell_type": "code",
   "execution_count": 5,
   "id": "d655b3e5",
   "metadata": {},
   "outputs": [
    {
     "data": {
      "text/plain": "자치구코드  월   \n강남구    1.0     154483.737\n       2.0     160103.215\n       3.0     150937.830\n       4.0     149110.629\n       5.0     148288.737\n                  ...    \n중랑구    8.0      54367.144\n       9.0      54990.896\n       10.0     54343.120\n       11.0     53765.172\n       12.0     55110.233\nName: 남성연령_20, Length: 300, dtype: float64"
     },
     "execution_count": 5,
     "metadata": {},
     "output_type": "execute_result"
    }
   ],
   "source": [
    "smoker = 0\n",
    "\n",
    "for column, smoke_rate in zip(people, rate['흡연율']):\n",
    "    smoker += people[column].apply(lambda x: x * smoke_rate / 100)\n",
    "\n",
    "smoker"
   ]
  },
  {
   "cell_type": "code",
   "execution_count": 6,
   "id": "bed20ede",
   "metadata": {},
   "outputs": [
    {
     "data": {
      "text/plain": "            남성연령_20  남성연령_30  남성연령_40  남성연령_50  남성연령_60  남성연령_70  여성연령_20  \\\n자치구코드 월                                                                     \n강남구   1.0   59927.0  89351.0  86963.0  56402.0  34891.0  28316.0  85788.0   \n      2.0   61406.0  93850.0  91857.0  58761.0  35518.0  28363.0  88513.0   \n      3.0   57106.0  87217.0  88324.0  57082.0  34601.0  27431.0  81156.0   \n      4.0   56987.0  86281.0  87066.0  56279.0  33758.0  26944.0  80825.0   \n      5.0   57031.0  86015.0  86085.0  55832.0  33494.0  26682.0  81021.0   \n...             ...      ...      ...      ...      ...      ...      ...   \n중랑구   8.0   21599.0  24836.0  25629.0  26806.0  20031.0  17667.0  24387.0   \n      9.0   21828.0  25313.0  25961.0  26916.0  20078.0  17724.0  24878.0   \n      10.0  21503.0  24922.0  25785.0  26649.0  19863.0  17608.0  24147.0   \n      11.0  21225.0  24593.0  25236.0  26409.0  19898.0  17524.0  23869.0   \n      12.0  21657.0  25649.0  25888.0  26813.0  20307.0  18005.0  24833.0   \n\n            여성연령_30  여성연령_40  여성연령_50  여성연령_60  여성연령_70      외국인     총예상흡연자수  \n자치구코드 월                                                                       \n강남구   1.0   88581.0  74374.0  52189.0  43429.0  41952.0  40941.0  154483.737  \n      2.0   92511.0  77102.0  53360.0  43990.0  42682.0  38894.0  160103.215  \n      3.0   85747.0  74291.0  51754.0  42375.0  41187.0  32325.0  150937.830  \n      4.0   85702.0  73831.0  51293.0  41691.0  40543.0  31180.0  149110.629  \n      5.0   86258.0  73943.0  51312.0  41512.0  40226.0  30539.0  148288.737  \n...             ...      ...      ...      ...      ...      ...         ...  \n중랑구   8.0   26633.0  26587.0  31734.0  25215.0  28095.0   6831.0   54367.144  \n      9.0   27385.0  27143.0  32075.0  25497.0  28077.0   6885.0   54990.896  \n      10.0  26916.0  26862.0  31646.0  25183.0  27711.0   6927.0   54343.120  \n      11.0  26726.0  26625.0  31758.0  25133.0  27826.0   6957.0   53765.172  \n      12.0  27584.0  26947.0  32165.0  25636.0  28241.0   6911.0   55110.233  \n\n[300 rows x 14 columns]",
      "text/html": "<div>\n<style scoped>\n    .dataframe tbody tr th:only-of-type {\n        vertical-align: middle;\n    }\n\n    .dataframe tbody tr th {\n        vertical-align: top;\n    }\n\n    .dataframe thead th {\n        text-align: right;\n    }\n</style>\n<table border=\"1\" class=\"dataframe\">\n  <thead>\n    <tr style=\"text-align: right;\">\n      <th></th>\n      <th></th>\n      <th>남성연령_20</th>\n      <th>남성연령_30</th>\n      <th>남성연령_40</th>\n      <th>남성연령_50</th>\n      <th>남성연령_60</th>\n      <th>남성연령_70</th>\n      <th>여성연령_20</th>\n      <th>여성연령_30</th>\n      <th>여성연령_40</th>\n      <th>여성연령_50</th>\n      <th>여성연령_60</th>\n      <th>여성연령_70</th>\n      <th>외국인</th>\n      <th>총예상흡연자수</th>\n    </tr>\n    <tr>\n      <th>자치구코드</th>\n      <th>월</th>\n      <th></th>\n      <th></th>\n      <th></th>\n      <th></th>\n      <th></th>\n      <th></th>\n      <th></th>\n      <th></th>\n      <th></th>\n      <th></th>\n      <th></th>\n      <th></th>\n      <th></th>\n      <th></th>\n    </tr>\n  </thead>\n  <tbody>\n    <tr>\n      <th rowspan=\"5\" valign=\"top\">강남구</th>\n      <th>1.0</th>\n      <td>59927.0</td>\n      <td>89351.0</td>\n      <td>86963.0</td>\n      <td>56402.0</td>\n      <td>34891.0</td>\n      <td>28316.0</td>\n      <td>85788.0</td>\n      <td>88581.0</td>\n      <td>74374.0</td>\n      <td>52189.0</td>\n      <td>43429.0</td>\n      <td>41952.0</td>\n      <td>40941.0</td>\n      <td>154483.737</td>\n    </tr>\n    <tr>\n      <th>2.0</th>\n      <td>61406.0</td>\n      <td>93850.0</td>\n      <td>91857.0</td>\n      <td>58761.0</td>\n      <td>35518.0</td>\n      <td>28363.0</td>\n      <td>88513.0</td>\n      <td>92511.0</td>\n      <td>77102.0</td>\n      <td>53360.0</td>\n      <td>43990.0</td>\n      <td>42682.0</td>\n      <td>38894.0</td>\n      <td>160103.215</td>\n    </tr>\n    <tr>\n      <th>3.0</th>\n      <td>57106.0</td>\n      <td>87217.0</td>\n      <td>88324.0</td>\n      <td>57082.0</td>\n      <td>34601.0</td>\n      <td>27431.0</td>\n      <td>81156.0</td>\n      <td>85747.0</td>\n      <td>74291.0</td>\n      <td>51754.0</td>\n      <td>42375.0</td>\n      <td>41187.0</td>\n      <td>32325.0</td>\n      <td>150937.830</td>\n    </tr>\n    <tr>\n      <th>4.0</th>\n      <td>56987.0</td>\n      <td>86281.0</td>\n      <td>87066.0</td>\n      <td>56279.0</td>\n      <td>33758.0</td>\n      <td>26944.0</td>\n      <td>80825.0</td>\n      <td>85702.0</td>\n      <td>73831.0</td>\n      <td>51293.0</td>\n      <td>41691.0</td>\n      <td>40543.0</td>\n      <td>31180.0</td>\n      <td>149110.629</td>\n    </tr>\n    <tr>\n      <th>5.0</th>\n      <td>57031.0</td>\n      <td>86015.0</td>\n      <td>86085.0</td>\n      <td>55832.0</td>\n      <td>33494.0</td>\n      <td>26682.0</td>\n      <td>81021.0</td>\n      <td>86258.0</td>\n      <td>73943.0</td>\n      <td>51312.0</td>\n      <td>41512.0</td>\n      <td>40226.0</td>\n      <td>30539.0</td>\n      <td>148288.737</td>\n    </tr>\n    <tr>\n      <th>...</th>\n      <th>...</th>\n      <td>...</td>\n      <td>...</td>\n      <td>...</td>\n      <td>...</td>\n      <td>...</td>\n      <td>...</td>\n      <td>...</td>\n      <td>...</td>\n      <td>...</td>\n      <td>...</td>\n      <td>...</td>\n      <td>...</td>\n      <td>...</td>\n      <td>...</td>\n    </tr>\n    <tr>\n      <th rowspan=\"5\" valign=\"top\">중랑구</th>\n      <th>8.0</th>\n      <td>21599.0</td>\n      <td>24836.0</td>\n      <td>25629.0</td>\n      <td>26806.0</td>\n      <td>20031.0</td>\n      <td>17667.0</td>\n      <td>24387.0</td>\n      <td>26633.0</td>\n      <td>26587.0</td>\n      <td>31734.0</td>\n      <td>25215.0</td>\n      <td>28095.0</td>\n      <td>6831.0</td>\n      <td>54367.144</td>\n    </tr>\n    <tr>\n      <th>9.0</th>\n      <td>21828.0</td>\n      <td>25313.0</td>\n      <td>25961.0</td>\n      <td>26916.0</td>\n      <td>20078.0</td>\n      <td>17724.0</td>\n      <td>24878.0</td>\n      <td>27385.0</td>\n      <td>27143.0</td>\n      <td>32075.0</td>\n      <td>25497.0</td>\n      <td>28077.0</td>\n      <td>6885.0</td>\n      <td>54990.896</td>\n    </tr>\n    <tr>\n      <th>10.0</th>\n      <td>21503.0</td>\n      <td>24922.0</td>\n      <td>25785.0</td>\n      <td>26649.0</td>\n      <td>19863.0</td>\n      <td>17608.0</td>\n      <td>24147.0</td>\n      <td>26916.0</td>\n      <td>26862.0</td>\n      <td>31646.0</td>\n      <td>25183.0</td>\n      <td>27711.0</td>\n      <td>6927.0</td>\n      <td>54343.120</td>\n    </tr>\n    <tr>\n      <th>11.0</th>\n      <td>21225.0</td>\n      <td>24593.0</td>\n      <td>25236.0</td>\n      <td>26409.0</td>\n      <td>19898.0</td>\n      <td>17524.0</td>\n      <td>23869.0</td>\n      <td>26726.0</td>\n      <td>26625.0</td>\n      <td>31758.0</td>\n      <td>25133.0</td>\n      <td>27826.0</td>\n      <td>6957.0</td>\n      <td>53765.172</td>\n    </tr>\n    <tr>\n      <th>12.0</th>\n      <td>21657.0</td>\n      <td>25649.0</td>\n      <td>25888.0</td>\n      <td>26813.0</td>\n      <td>20307.0</td>\n      <td>18005.0</td>\n      <td>24833.0</td>\n      <td>27584.0</td>\n      <td>26947.0</td>\n      <td>32165.0</td>\n      <td>25636.0</td>\n      <td>28241.0</td>\n      <td>6911.0</td>\n      <td>55110.233</td>\n    </tr>\n  </tbody>\n</table>\n<p>300 rows × 14 columns</p>\n</div>"
     },
     "execution_count": 6,
     "metadata": {},
     "output_type": "execute_result"
    }
   ],
   "source": [
    "people['총예상흡연자수'] = smoker\n",
    "people"
   ]
  },
  {
   "cell_type": "code",
   "execution_count": 7,
   "id": "e99933b7",
   "metadata": {},
   "outputs": [
    {
     "data": {
      "text/plain": "            남성연령_20  남성연령_30  남성연령_40  남성연령_50  남성연령_60  남성연령_70  여성연령_20  \\\n자치구코드 월                                                                     \n강남구   1.0     59927    89351    86963    56402    34891    28316    85788   \n      2.0     61406    93850    91857    58761    35518    28363    88513   \n      3.0     57106    87217    88324    57082    34601    27431    81156   \n      4.0     56987    86281    87066    56279    33758    26944    80825   \n      5.0     57031    86015    86085    55832    33494    26682    81021   \n...             ...      ...      ...      ...      ...      ...      ...   \n중랑구   8.0     21599    24836    25629    26806    20031    17667    24387   \n      9.0     21828    25313    25961    26916    20078    17724    24878   \n      10.0    21503    24922    25785    26649    19863    17608    24147   \n      11.0    21225    24593    25236    26409    19898    17524    23869   \n      12.0    21657    25649    25888    26813    20307    18005    24833   \n\n            여성연령_30  여성연령_40  여성연령_50  여성연령_60  여성연령_70    외국인  총예상흡연자수  \n자치구코드 월                                                                  \n강남구   1.0     88581    74374    52189    43429    41952  40941   154484  \n      2.0     92511    77102    53360    43990    42682  38894   160103  \n      3.0     85747    74291    51754    42375    41187  32325   150938  \n      4.0     85702    73831    51293    41691    40543  31180   149111  \n      5.0     86258    73943    51312    41512    40226  30539   148289  \n...             ...      ...      ...      ...      ...    ...      ...  \n중랑구   8.0     26633    26587    31734    25215    28095   6831    54367  \n      9.0     27385    27143    32075    25497    28077   6885    54991  \n      10.0    26916    26862    31646    25183    27711   6927    54343  \n      11.0    26726    26625    31758    25133    27826   6957    53765  \n      12.0    27584    26947    32165    25636    28241   6911    55110  \n\n[300 rows x 14 columns]",
      "text/html": "<div>\n<style scoped>\n    .dataframe tbody tr th:only-of-type {\n        vertical-align: middle;\n    }\n\n    .dataframe tbody tr th {\n        vertical-align: top;\n    }\n\n    .dataframe thead th {\n        text-align: right;\n    }\n</style>\n<table border=\"1\" class=\"dataframe\">\n  <thead>\n    <tr style=\"text-align: right;\">\n      <th></th>\n      <th></th>\n      <th>남성연령_20</th>\n      <th>남성연령_30</th>\n      <th>남성연령_40</th>\n      <th>남성연령_50</th>\n      <th>남성연령_60</th>\n      <th>남성연령_70</th>\n      <th>여성연령_20</th>\n      <th>여성연령_30</th>\n      <th>여성연령_40</th>\n      <th>여성연령_50</th>\n      <th>여성연령_60</th>\n      <th>여성연령_70</th>\n      <th>외국인</th>\n      <th>총예상흡연자수</th>\n    </tr>\n    <tr>\n      <th>자치구코드</th>\n      <th>월</th>\n      <th></th>\n      <th></th>\n      <th></th>\n      <th></th>\n      <th></th>\n      <th></th>\n      <th></th>\n      <th></th>\n      <th></th>\n      <th></th>\n      <th></th>\n      <th></th>\n      <th></th>\n      <th></th>\n    </tr>\n  </thead>\n  <tbody>\n    <tr>\n      <th rowspan=\"5\" valign=\"top\">강남구</th>\n      <th>1.0</th>\n      <td>59927</td>\n      <td>89351</td>\n      <td>86963</td>\n      <td>56402</td>\n      <td>34891</td>\n      <td>28316</td>\n      <td>85788</td>\n      <td>88581</td>\n      <td>74374</td>\n      <td>52189</td>\n      <td>43429</td>\n      <td>41952</td>\n      <td>40941</td>\n      <td>154484</td>\n    </tr>\n    <tr>\n      <th>2.0</th>\n      <td>61406</td>\n      <td>93850</td>\n      <td>91857</td>\n      <td>58761</td>\n      <td>35518</td>\n      <td>28363</td>\n      <td>88513</td>\n      <td>92511</td>\n      <td>77102</td>\n      <td>53360</td>\n      <td>43990</td>\n      <td>42682</td>\n      <td>38894</td>\n      <td>160103</td>\n    </tr>\n    <tr>\n      <th>3.0</th>\n      <td>57106</td>\n      <td>87217</td>\n      <td>88324</td>\n      <td>57082</td>\n      <td>34601</td>\n      <td>27431</td>\n      <td>81156</td>\n      <td>85747</td>\n      <td>74291</td>\n      <td>51754</td>\n      <td>42375</td>\n      <td>41187</td>\n      <td>32325</td>\n      <td>150938</td>\n    </tr>\n    <tr>\n      <th>4.0</th>\n      <td>56987</td>\n      <td>86281</td>\n      <td>87066</td>\n      <td>56279</td>\n      <td>33758</td>\n      <td>26944</td>\n      <td>80825</td>\n      <td>85702</td>\n      <td>73831</td>\n      <td>51293</td>\n      <td>41691</td>\n      <td>40543</td>\n      <td>31180</td>\n      <td>149111</td>\n    </tr>\n    <tr>\n      <th>5.0</th>\n      <td>57031</td>\n      <td>86015</td>\n      <td>86085</td>\n      <td>55832</td>\n      <td>33494</td>\n      <td>26682</td>\n      <td>81021</td>\n      <td>86258</td>\n      <td>73943</td>\n      <td>51312</td>\n      <td>41512</td>\n      <td>40226</td>\n      <td>30539</td>\n      <td>148289</td>\n    </tr>\n    <tr>\n      <th>...</th>\n      <th>...</th>\n      <td>...</td>\n      <td>...</td>\n      <td>...</td>\n      <td>...</td>\n      <td>...</td>\n      <td>...</td>\n      <td>...</td>\n      <td>...</td>\n      <td>...</td>\n      <td>...</td>\n      <td>...</td>\n      <td>...</td>\n      <td>...</td>\n      <td>...</td>\n    </tr>\n    <tr>\n      <th rowspan=\"5\" valign=\"top\">중랑구</th>\n      <th>8.0</th>\n      <td>21599</td>\n      <td>24836</td>\n      <td>25629</td>\n      <td>26806</td>\n      <td>20031</td>\n      <td>17667</td>\n      <td>24387</td>\n      <td>26633</td>\n      <td>26587</td>\n      <td>31734</td>\n      <td>25215</td>\n      <td>28095</td>\n      <td>6831</td>\n      <td>54367</td>\n    </tr>\n    <tr>\n      <th>9.0</th>\n      <td>21828</td>\n      <td>25313</td>\n      <td>25961</td>\n      <td>26916</td>\n      <td>20078</td>\n      <td>17724</td>\n      <td>24878</td>\n      <td>27385</td>\n      <td>27143</td>\n      <td>32075</td>\n      <td>25497</td>\n      <td>28077</td>\n      <td>6885</td>\n      <td>54991</td>\n    </tr>\n    <tr>\n      <th>10.0</th>\n      <td>21503</td>\n      <td>24922</td>\n      <td>25785</td>\n      <td>26649</td>\n      <td>19863</td>\n      <td>17608</td>\n      <td>24147</td>\n      <td>26916</td>\n      <td>26862</td>\n      <td>31646</td>\n      <td>25183</td>\n      <td>27711</td>\n      <td>6927</td>\n      <td>54343</td>\n    </tr>\n    <tr>\n      <th>11.0</th>\n      <td>21225</td>\n      <td>24593</td>\n      <td>25236</td>\n      <td>26409</td>\n      <td>19898</td>\n      <td>17524</td>\n      <td>23869</td>\n      <td>26726</td>\n      <td>26625</td>\n      <td>31758</td>\n      <td>25133</td>\n      <td>27826</td>\n      <td>6957</td>\n      <td>53765</td>\n    </tr>\n    <tr>\n      <th>12.0</th>\n      <td>21657</td>\n      <td>25649</td>\n      <td>25888</td>\n      <td>26813</td>\n      <td>20307</td>\n      <td>18005</td>\n      <td>24833</td>\n      <td>27584</td>\n      <td>26947</td>\n      <td>32165</td>\n      <td>25636</td>\n      <td>28241</td>\n      <td>6911</td>\n      <td>55110</td>\n    </tr>\n  </tbody>\n</table>\n<p>300 rows × 14 columns</p>\n</div>"
     },
     "execution_count": 7,
     "metadata": {},
     "output_type": "execute_result"
    }
   ],
   "source": [
    "people = people.round()\n",
    "people = people.astype('int')\n",
    "people"
   ]
  },
  {
   "cell_type": "code",
   "execution_count": null,
   "id": "bae8b361",
   "metadata": {},
   "outputs": [],
   "source": []
  }
 ],
 "metadata": {
  "kernelspec": {
   "display_name": "Python 3 (ipykernel)",
   "language": "python",
   "name": "python3"
  },
  "language_info": {
   "codemirror_mode": {
    "name": "ipython",
    "version": 3
   },
   "file_extension": ".py",
   "mimetype": "text/x-python",
   "name": "python",
   "nbconvert_exporter": "python",
   "pygments_lexer": "ipython3",
   "version": "3.9.7"
  }
 },
 "nbformat": 4,
 "nbformat_minor": 5
}