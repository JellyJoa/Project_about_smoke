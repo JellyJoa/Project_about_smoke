{
 "cells": [
  {
   "cell_type": "code",
   "execution_count": 1,
   "id": "ada494a2",
   "metadata": {},
   "outputs": [
    {
     "data": {
      "text/plain": "          남성연령_20  남성연령_30  남성연령_40  남성연령_50  남성연령_60  남성연령_70  여성연령_20  \\\n자치구코드 월                                                                   \n강남구   1   66130.0  94273.0  86239.0  55571.0  38224.0  31437.0  89270.0   \n      2   63585.0  90859.0  83297.0  54065.0  37455.0  31204.0  85243.0   \n      3   61467.0  94319.0  86760.0  55529.0  37901.0  31379.0  85939.0   \n      4   61203.0  95197.0  86811.0  55459.0  37412.0  30741.0  86241.0   \n      5   60092.0  90665.0  83300.0  53896.0  36555.0  30291.0  83486.0   \n...           ...      ...      ...      ...      ...      ...      ...   \n중랑구   8   22414.0  25087.0  25483.0  26933.0  20480.0  17314.0  23736.0   \n      9   22330.0  25460.0  25918.0  26971.0  20499.0  17458.0  23225.0   \n      10  22270.0  25160.0  25544.0  26632.0  20267.0  17233.0  23344.0   \n      11  21973.0  24895.0  25386.0  26560.0  20168.0  17397.0  23083.0   \n      12  22554.0  25234.0  25724.0  27297.0  21144.0  18240.0  23242.0   \n\n          여성연령_30  여성연령_40  여성연령_50  여성연령_60  여성연령_70      외국인  \n자치구코드 월                                                         \n강남구   1   88748.0  70802.0  54448.0  48373.0  47162.0  45929.0  \n      2   85966.0  68495.0  53090.0  47350.0  46499.0  40153.0  \n      3   89765.0  71139.0  54137.0  48460.0  47424.0  41009.0  \n      4   90462.0  70973.0  53485.0  47797.0  46428.0  41590.0  \n      5   87055.0  69489.0  52368.0  46418.0  46171.0  42665.0  \n...           ...      ...      ...      ...      ...      ...  \n중랑구   8   26447.0  27112.0  32352.0  25509.0  29839.0   6549.0  \n      9   26691.0  27555.0  32493.0  25674.0  30347.0   6446.0  \n      10  26911.0  27474.0  32525.0  25382.0  30051.0   6295.0  \n      11  26794.0  27415.0  32516.0  25389.0  30038.0   6240.0  \n      12  26811.0  27445.0  33106.0  26171.0  30704.0   6372.0  \n\n[300 rows x 13 columns]",
      "text/html": "<div>\n<style scoped>\n    .dataframe tbody tr th:only-of-type {\n        vertical-align: middle;\n    }\n\n    .dataframe tbody tr th {\n        vertical-align: top;\n    }\n\n    .dataframe thead th {\n        text-align: right;\n    }\n</style>\n<table border=\"1\" class=\"dataframe\">\n  <thead>\n    <tr style=\"text-align: right;\">\n      <th></th>\n      <th></th>\n      <th>남성연령_20</th>\n      <th>남성연령_30</th>\n      <th>남성연령_40</th>\n      <th>남성연령_50</th>\n      <th>남성연령_60</th>\n      <th>남성연령_70</th>\n      <th>여성연령_20</th>\n      <th>여성연령_30</th>\n      <th>여성연령_40</th>\n      <th>여성연령_50</th>\n      <th>여성연령_60</th>\n      <th>여성연령_70</th>\n      <th>외국인</th>\n    </tr>\n    <tr>\n      <th>자치구코드</th>\n      <th>월</th>\n      <th></th>\n      <th></th>\n      <th></th>\n      <th></th>\n      <th></th>\n      <th></th>\n      <th></th>\n      <th></th>\n      <th></th>\n      <th></th>\n      <th></th>\n      <th></th>\n      <th></th>\n    </tr>\n  </thead>\n  <tbody>\n    <tr>\n      <th rowspan=\"5\" valign=\"top\">강남구</th>\n      <th>1</th>\n      <td>66130.0</td>\n      <td>94273.0</td>\n      <td>86239.0</td>\n      <td>55571.0</td>\n      <td>38224.0</td>\n      <td>31437.0</td>\n      <td>89270.0</td>\n      <td>88748.0</td>\n      <td>70802.0</td>\n      <td>54448.0</td>\n      <td>48373.0</td>\n      <td>47162.0</td>\n      <td>45929.0</td>\n    </tr>\n    <tr>\n      <th>2</th>\n      <td>63585.0</td>\n      <td>90859.0</td>\n      <td>83297.0</td>\n      <td>54065.0</td>\n      <td>37455.0</td>\n      <td>31204.0</td>\n      <td>85243.0</td>\n      <td>85966.0</td>\n      <td>68495.0</td>\n      <td>53090.0</td>\n      <td>47350.0</td>\n      <td>46499.0</td>\n      <td>40153.0</td>\n    </tr>\n    <tr>\n      <th>3</th>\n      <td>61467.0</td>\n      <td>94319.0</td>\n      <td>86760.0</td>\n      <td>55529.0</td>\n      <td>37901.0</td>\n      <td>31379.0</td>\n      <td>85939.0</td>\n      <td>89765.0</td>\n      <td>71139.0</td>\n      <td>54137.0</td>\n      <td>48460.0</td>\n      <td>47424.0</td>\n      <td>41009.0</td>\n    </tr>\n    <tr>\n      <th>4</th>\n      <td>61203.0</td>\n      <td>95197.0</td>\n      <td>86811.0</td>\n      <td>55459.0</td>\n      <td>37412.0</td>\n      <td>30741.0</td>\n      <td>86241.0</td>\n      <td>90462.0</td>\n      <td>70973.0</td>\n      <td>53485.0</td>\n      <td>47797.0</td>\n      <td>46428.0</td>\n      <td>41590.0</td>\n    </tr>\n    <tr>\n      <th>5</th>\n      <td>60092.0</td>\n      <td>90665.0</td>\n      <td>83300.0</td>\n      <td>53896.0</td>\n      <td>36555.0</td>\n      <td>30291.0</td>\n      <td>83486.0</td>\n      <td>87055.0</td>\n      <td>69489.0</td>\n      <td>52368.0</td>\n      <td>46418.0</td>\n      <td>46171.0</td>\n      <td>42665.0</td>\n    </tr>\n    <tr>\n      <th>...</th>\n      <th>...</th>\n      <td>...</td>\n      <td>...</td>\n      <td>...</td>\n      <td>...</td>\n      <td>...</td>\n      <td>...</td>\n      <td>...</td>\n      <td>...</td>\n      <td>...</td>\n      <td>...</td>\n      <td>...</td>\n      <td>...</td>\n      <td>...</td>\n    </tr>\n    <tr>\n      <th rowspan=\"5\" valign=\"top\">중랑구</th>\n      <th>8</th>\n      <td>22414.0</td>\n      <td>25087.0</td>\n      <td>25483.0</td>\n      <td>26933.0</td>\n      <td>20480.0</td>\n      <td>17314.0</td>\n      <td>23736.0</td>\n      <td>26447.0</td>\n      <td>27112.0</td>\n      <td>32352.0</td>\n      <td>25509.0</td>\n      <td>29839.0</td>\n      <td>6549.0</td>\n    </tr>\n    <tr>\n      <th>9</th>\n      <td>22330.0</td>\n      <td>25460.0</td>\n      <td>25918.0</td>\n      <td>26971.0</td>\n      <td>20499.0</td>\n      <td>17458.0</td>\n      <td>23225.0</td>\n      <td>26691.0</td>\n      <td>27555.0</td>\n      <td>32493.0</td>\n      <td>25674.0</td>\n      <td>30347.0</td>\n      <td>6446.0</td>\n    </tr>\n    <tr>\n      <th>10</th>\n      <td>22270.0</td>\n      <td>25160.0</td>\n      <td>25544.0</td>\n      <td>26632.0</td>\n      <td>20267.0</td>\n      <td>17233.0</td>\n      <td>23344.0</td>\n      <td>26911.0</td>\n      <td>27474.0</td>\n      <td>32525.0</td>\n      <td>25382.0</td>\n      <td>30051.0</td>\n      <td>6295.0</td>\n    </tr>\n    <tr>\n      <th>11</th>\n      <td>21973.0</td>\n      <td>24895.0</td>\n      <td>25386.0</td>\n      <td>26560.0</td>\n      <td>20168.0</td>\n      <td>17397.0</td>\n      <td>23083.0</td>\n      <td>26794.0</td>\n      <td>27415.0</td>\n      <td>32516.0</td>\n      <td>25389.0</td>\n      <td>30038.0</td>\n      <td>6240.0</td>\n    </tr>\n    <tr>\n      <th>12</th>\n      <td>22554.0</td>\n      <td>25234.0</td>\n      <td>25724.0</td>\n      <td>27297.0</td>\n      <td>21144.0</td>\n      <td>18240.0</td>\n      <td>23242.0</td>\n      <td>26811.0</td>\n      <td>27445.0</td>\n      <td>33106.0</td>\n      <td>26171.0</td>\n      <td>30704.0</td>\n      <td>6372.0</td>\n    </tr>\n  </tbody>\n</table>\n<p>300 rows × 13 columns</p>\n</div>"
     },
     "execution_count": 1,
     "metadata": {},
     "output_type": "execute_result"
    }
   ],
   "source": [
    "import pandas as pd\n",
    "\n",
    "people = pd.read_csv('2018전처리.csv', index_col=[0,1])\n",
    "rate = pd.read_csv('흡연율2018.csv', index_col=0)\n",
    "\n",
    "people"
   ]
  },
  {
   "cell_type": "code",
   "execution_count": 2,
   "id": "c7d477cd",
   "metadata": {},
   "outputs": [
    {
     "data": {
      "text/plain": "       흡연율\n성연령별      \n남성20  34.9\n남성30  39.9\n남성40  44.1\n남성50  40.6\n남성60  26.7\n남성70  14.7\n여성20  10.9\n여성30   8.3\n여성40   8.7\n여성50   5.0\n여성60   3.6\n여성70   1.1\n외국인   21.1",
      "text/html": "<div>\n<style scoped>\n    .dataframe tbody tr th:only-of-type {\n        vertical-align: middle;\n    }\n\n    .dataframe tbody tr th {\n        vertical-align: top;\n    }\n\n    .dataframe thead th {\n        text-align: right;\n    }\n</style>\n<table border=\"1\" class=\"dataframe\">\n  <thead>\n    <tr style=\"text-align: right;\">\n      <th></th>\n      <th>흡연율</th>\n    </tr>\n    <tr>\n      <th>성연령별</th>\n      <th></th>\n    </tr>\n  </thead>\n  <tbody>\n    <tr>\n      <th>남성20</th>\n      <td>34.9</td>\n    </tr>\n    <tr>\n      <th>남성30</th>\n      <td>39.9</td>\n    </tr>\n    <tr>\n      <th>남성40</th>\n      <td>44.1</td>\n    </tr>\n    <tr>\n      <th>남성50</th>\n      <td>40.6</td>\n    </tr>\n    <tr>\n      <th>남성60</th>\n      <td>26.7</td>\n    </tr>\n    <tr>\n      <th>남성70</th>\n      <td>14.7</td>\n    </tr>\n    <tr>\n      <th>여성20</th>\n      <td>10.9</td>\n    </tr>\n    <tr>\n      <th>여성30</th>\n      <td>8.3</td>\n    </tr>\n    <tr>\n      <th>여성40</th>\n      <td>8.7</td>\n    </tr>\n    <tr>\n      <th>여성50</th>\n      <td>5.0</td>\n    </tr>\n    <tr>\n      <th>여성60</th>\n      <td>3.6</td>\n    </tr>\n    <tr>\n      <th>여성70</th>\n      <td>1.1</td>\n    </tr>\n    <tr>\n      <th>외국인</th>\n      <td>21.1</td>\n    </tr>\n  </tbody>\n</table>\n</div>"
     },
     "execution_count": 2,
     "metadata": {},
     "output_type": "execute_result"
    }
   ],
   "source": [
    "rate"
   ]
  },
  {
   "cell_type": "code",
   "execution_count": 3,
   "id": "d655b3e5",
   "metadata": {},
   "outputs": [
    {
     "data": {
      "text/plain": "자치구코드  월 \n강남구    1     174044.486\n       2     167444.348\n       3     171256.390\n       4     171415.792\n       5     166148.207\n                ...    \n중랑구    8      59405.379\n       9      59758.333\n       10     59200.261\n       11     58834.399\n       12     60119.404\nName: 남성연령_20, Length: 300, dtype: float64"
     },
     "execution_count": 3,
     "metadata": {},
     "output_type": "execute_result"
    }
   ],
   "source": [
    "smoker = 0\n",
    "\n",
    "for column, smoke_rate in zip(people, rate['흡연율']):\n",
    "    smoker += people[column].apply(lambda x: x * smoke_rate / 100)\n",
    "\n",
    "smoker"
   ]
  },
  {
   "cell_type": "code",
   "execution_count": 4,
   "id": "bed20ede",
   "metadata": {},
   "outputs": [
    {
     "data": {
      "text/plain": "          남성연령_20  남성연령_30  남성연령_40  남성연령_50  남성연령_60  남성연령_70  여성연령_20  \\\n자치구코드 월                                                                   \n강남구   1   66130.0  94273.0  86239.0  55571.0  38224.0  31437.0  89270.0   \n      2   63585.0  90859.0  83297.0  54065.0  37455.0  31204.0  85243.0   \n      3   61467.0  94319.0  86760.0  55529.0  37901.0  31379.0  85939.0   \n      4   61203.0  95197.0  86811.0  55459.0  37412.0  30741.0  86241.0   \n      5   60092.0  90665.0  83300.0  53896.0  36555.0  30291.0  83486.0   \n...           ...      ...      ...      ...      ...      ...      ...   \n중랑구   8   22414.0  25087.0  25483.0  26933.0  20480.0  17314.0  23736.0   \n      9   22330.0  25460.0  25918.0  26971.0  20499.0  17458.0  23225.0   \n      10  22270.0  25160.0  25544.0  26632.0  20267.0  17233.0  23344.0   \n      11  21973.0  24895.0  25386.0  26560.0  20168.0  17397.0  23083.0   \n      12  22554.0  25234.0  25724.0  27297.0  21144.0  18240.0  23242.0   \n\n          여성연령_30  여성연령_40  여성연령_50  여성연령_60  여성연령_70      외국인     총예상흡연자수  \n자치구코드 월                                                                     \n강남구   1   88748.0  70802.0  54448.0  48373.0  47162.0  45929.0  174044.486  \n      2   85966.0  68495.0  53090.0  47350.0  46499.0  40153.0  167444.348  \n      3   89765.0  71139.0  54137.0  48460.0  47424.0  41009.0  171256.390  \n      4   90462.0  70973.0  53485.0  47797.0  46428.0  41590.0  171415.792  \n      5   87055.0  69489.0  52368.0  46418.0  46171.0  42665.0  166148.207  \n...           ...      ...      ...      ...      ...      ...         ...  \n중랑구   8   26447.0  27112.0  32352.0  25509.0  29839.0   6549.0   59405.379  \n      9   26691.0  27555.0  32493.0  25674.0  30347.0   6446.0   59758.333  \n      10  26911.0  27474.0  32525.0  25382.0  30051.0   6295.0   59200.261  \n      11  26794.0  27415.0  32516.0  25389.0  30038.0   6240.0   58834.399  \n      12  26811.0  27445.0  33106.0  26171.0  30704.0   6372.0   60119.404  \n\n[300 rows x 14 columns]",
      "text/html": "<div>\n<style scoped>\n    .dataframe tbody tr th:only-of-type {\n        vertical-align: middle;\n    }\n\n    .dataframe tbody tr th {\n        vertical-align: top;\n    }\n\n    .dataframe thead th {\n        text-align: right;\n    }\n</style>\n<table border=\"1\" class=\"dataframe\">\n  <thead>\n    <tr style=\"text-align: right;\">\n      <th></th>\n      <th></th>\n      <th>남성연령_20</th>\n      <th>남성연령_30</th>\n      <th>남성연령_40</th>\n      <th>남성연령_50</th>\n      <th>남성연령_60</th>\n      <th>남성연령_70</th>\n      <th>여성연령_20</th>\n      <th>여성연령_30</th>\n      <th>여성연령_40</th>\n      <th>여성연령_50</th>\n      <th>여성연령_60</th>\n      <th>여성연령_70</th>\n      <th>외국인</th>\n      <th>총예상흡연자수</th>\n    </tr>\n    <tr>\n      <th>자치구코드</th>\n      <th>월</th>\n      <th></th>\n      <th></th>\n      <th></th>\n      <th></th>\n      <th></th>\n      <th></th>\n      <th></th>\n      <th></th>\n      <th></th>\n      <th></th>\n      <th></th>\n      <th></th>\n      <th></th>\n      <th></th>\n    </tr>\n  </thead>\n  <tbody>\n    <tr>\n      <th rowspan=\"5\" valign=\"top\">강남구</th>\n      <th>1</th>\n      <td>66130.0</td>\n      <td>94273.0</td>\n      <td>86239.0</td>\n      <td>55571.0</td>\n      <td>38224.0</td>\n      <td>31437.0</td>\n      <td>89270.0</td>\n      <td>88748.0</td>\n      <td>70802.0</td>\n      <td>54448.0</td>\n      <td>48373.0</td>\n      <td>47162.0</td>\n      <td>45929.0</td>\n      <td>174044.486</td>\n    </tr>\n    <tr>\n      <th>2</th>\n      <td>63585.0</td>\n      <td>90859.0</td>\n      <td>83297.0</td>\n      <td>54065.0</td>\n      <td>37455.0</td>\n      <td>31204.0</td>\n      <td>85243.0</td>\n      <td>85966.0</td>\n      <td>68495.0</td>\n      <td>53090.0</td>\n      <td>47350.0</td>\n      <td>46499.0</td>\n      <td>40153.0</td>\n      <td>167444.348</td>\n    </tr>\n    <tr>\n      <th>3</th>\n      <td>61467.0</td>\n      <td>94319.0</td>\n      <td>86760.0</td>\n      <td>55529.0</td>\n      <td>37901.0</td>\n      <td>31379.0</td>\n      <td>85939.0</td>\n      <td>89765.0</td>\n      <td>71139.0</td>\n      <td>54137.0</td>\n      <td>48460.0</td>\n      <td>47424.0</td>\n      <td>41009.0</td>\n      <td>171256.390</td>\n    </tr>\n    <tr>\n      <th>4</th>\n      <td>61203.0</td>\n      <td>95197.0</td>\n      <td>86811.0</td>\n      <td>55459.0</td>\n      <td>37412.0</td>\n      <td>30741.0</td>\n      <td>86241.0</td>\n      <td>90462.0</td>\n      <td>70973.0</td>\n      <td>53485.0</td>\n      <td>47797.0</td>\n      <td>46428.0</td>\n      <td>41590.0</td>\n      <td>171415.792</td>\n    </tr>\n    <tr>\n      <th>5</th>\n      <td>60092.0</td>\n      <td>90665.0</td>\n      <td>83300.0</td>\n      <td>53896.0</td>\n      <td>36555.0</td>\n      <td>30291.0</td>\n      <td>83486.0</td>\n      <td>87055.0</td>\n      <td>69489.0</td>\n      <td>52368.0</td>\n      <td>46418.0</td>\n      <td>46171.0</td>\n      <td>42665.0</td>\n      <td>166148.207</td>\n    </tr>\n    <tr>\n      <th>...</th>\n      <th>...</th>\n      <td>...</td>\n      <td>...</td>\n      <td>...</td>\n      <td>...</td>\n      <td>...</td>\n      <td>...</td>\n      <td>...</td>\n      <td>...</td>\n      <td>...</td>\n      <td>...</td>\n      <td>...</td>\n      <td>...</td>\n      <td>...</td>\n      <td>...</td>\n    </tr>\n    <tr>\n      <th rowspan=\"5\" valign=\"top\">중랑구</th>\n      <th>8</th>\n      <td>22414.0</td>\n      <td>25087.0</td>\n      <td>25483.0</td>\n      <td>26933.0</td>\n      <td>20480.0</td>\n      <td>17314.0</td>\n      <td>23736.0</td>\n      <td>26447.0</td>\n      <td>27112.0</td>\n      <td>32352.0</td>\n      <td>25509.0</td>\n      <td>29839.0</td>\n      <td>6549.0</td>\n      <td>59405.379</td>\n    </tr>\n    <tr>\n      <th>9</th>\n      <td>22330.0</td>\n      <td>25460.0</td>\n      <td>25918.0</td>\n      <td>26971.0</td>\n      <td>20499.0</td>\n      <td>17458.0</td>\n      <td>23225.0</td>\n      <td>26691.0</td>\n      <td>27555.0</td>\n      <td>32493.0</td>\n      <td>25674.0</td>\n      <td>30347.0</td>\n      <td>6446.0</td>\n      <td>59758.333</td>\n    </tr>\n    <tr>\n      <th>10</th>\n      <td>22270.0</td>\n      <td>25160.0</td>\n      <td>25544.0</td>\n      <td>26632.0</td>\n      <td>20267.0</td>\n      <td>17233.0</td>\n      <td>23344.0</td>\n      <td>26911.0</td>\n      <td>27474.0</td>\n      <td>32525.0</td>\n      <td>25382.0</td>\n      <td>30051.0</td>\n      <td>6295.0</td>\n      <td>59200.261</td>\n    </tr>\n    <tr>\n      <th>11</th>\n      <td>21973.0</td>\n      <td>24895.0</td>\n      <td>25386.0</td>\n      <td>26560.0</td>\n      <td>20168.0</td>\n      <td>17397.0</td>\n      <td>23083.0</td>\n      <td>26794.0</td>\n      <td>27415.0</td>\n      <td>32516.0</td>\n      <td>25389.0</td>\n      <td>30038.0</td>\n      <td>6240.0</td>\n      <td>58834.399</td>\n    </tr>\n    <tr>\n      <th>12</th>\n      <td>22554.0</td>\n      <td>25234.0</td>\n      <td>25724.0</td>\n      <td>27297.0</td>\n      <td>21144.0</td>\n      <td>18240.0</td>\n      <td>23242.0</td>\n      <td>26811.0</td>\n      <td>27445.0</td>\n      <td>33106.0</td>\n      <td>26171.0</td>\n      <td>30704.0</td>\n      <td>6372.0</td>\n      <td>60119.404</td>\n    </tr>\n  </tbody>\n</table>\n<p>300 rows × 14 columns</p>\n</div>"
     },
     "execution_count": 4,
     "metadata": {},
     "output_type": "execute_result"
    }
   ],
   "source": [
    "people['총예상흡연자수'] = smoker\n",
    "people"
   ]
  },
  {
   "cell_type": "code",
   "execution_count": 5,
   "id": "e99933b7",
   "metadata": {},
   "outputs": [
    {
     "data": {
      "text/plain": "          남성연령_20  남성연령_30  남성연령_40  남성연령_50  남성연령_60  남성연령_70  여성연령_20  \\\n자치구코드 월                                                                   \n강남구   1     66130    94273    86239    55571    38224    31437    89270   \n      2     63585    90859    83297    54065    37455    31204    85243   \n      3     61467    94319    86760    55529    37901    31379    85939   \n      4     61203    95197    86811    55459    37412    30741    86241   \n      5     60092    90665    83300    53896    36555    30291    83486   \n...           ...      ...      ...      ...      ...      ...      ...   \n중랑구   8     22414    25087    25483    26933    20480    17314    23736   \n      9     22330    25460    25918    26971    20499    17458    23225   \n      10    22270    25160    25544    26632    20267    17233    23344   \n      11    21973    24895    25386    26560    20168    17397    23083   \n      12    22554    25234    25724    27297    21144    18240    23242   \n\n          여성연령_30  여성연령_40  여성연령_50  여성연령_60  여성연령_70    외국인  총예상흡연자수  \n자치구코드 월                                                                \n강남구   1     88748    70802    54448    48373    47162  45929   174044  \n      2     85966    68495    53090    47350    46499  40153   167444  \n      3     89765    71139    54137    48460    47424  41009   171256  \n      4     90462    70973    53485    47797    46428  41590   171416  \n      5     87055    69489    52368    46418    46171  42665   166148  \n...           ...      ...      ...      ...      ...    ...      ...  \n중랑구   8     26447    27112    32352    25509    29839   6549    59405  \n      9     26691    27555    32493    25674    30347   6446    59758  \n      10    26911    27474    32525    25382    30051   6295    59200  \n      11    26794    27415    32516    25389    30038   6240    58834  \n      12    26811    27445    33106    26171    30704   6372    60119  \n\n[300 rows x 14 columns]",
      "text/html": "<div>\n<style scoped>\n    .dataframe tbody tr th:only-of-type {\n        vertical-align: middle;\n    }\n\n    .dataframe tbody tr th {\n        vertical-align: top;\n    }\n\n    .dataframe thead th {\n        text-align: right;\n    }\n</style>\n<table border=\"1\" class=\"dataframe\">\n  <thead>\n    <tr style=\"text-align: right;\">\n      <th></th>\n      <th></th>\n      <th>남성연령_20</th>\n      <th>남성연령_30</th>\n      <th>남성연령_40</th>\n      <th>남성연령_50</th>\n      <th>남성연령_60</th>\n      <th>남성연령_70</th>\n      <th>여성연령_20</th>\n      <th>여성연령_30</th>\n      <th>여성연령_40</th>\n      <th>여성연령_50</th>\n      <th>여성연령_60</th>\n      <th>여성연령_70</th>\n      <th>외국인</th>\n      <th>총예상흡연자수</th>\n    </tr>\n    <tr>\n      <th>자치구코드</th>\n      <th>월</th>\n      <th></th>\n      <th></th>\n      <th></th>\n      <th></th>\n      <th></th>\n      <th></th>\n      <th></th>\n      <th></th>\n      <th></th>\n      <th></th>\n      <th></th>\n      <th></th>\n      <th></th>\n      <th></th>\n    </tr>\n  </thead>\n  <tbody>\n    <tr>\n      <th rowspan=\"5\" valign=\"top\">강남구</th>\n      <th>1</th>\n      <td>66130</td>\n      <td>94273</td>\n      <td>86239</td>\n      <td>55571</td>\n      <td>38224</td>\n      <td>31437</td>\n      <td>89270</td>\n      <td>88748</td>\n      <td>70802</td>\n      <td>54448</td>\n      <td>48373</td>\n      <td>47162</td>\n      <td>45929</td>\n      <td>174044</td>\n    </tr>\n    <tr>\n      <th>2</th>\n      <td>63585</td>\n      <td>90859</td>\n      <td>83297</td>\n      <td>54065</td>\n      <td>37455</td>\n      <td>31204</td>\n      <td>85243</td>\n      <td>85966</td>\n      <td>68495</td>\n      <td>53090</td>\n      <td>47350</td>\n      <td>46499</td>\n      <td>40153</td>\n      <td>167444</td>\n    </tr>\n    <tr>\n      <th>3</th>\n      <td>61467</td>\n      <td>94319</td>\n      <td>86760</td>\n      <td>55529</td>\n      <td>37901</td>\n      <td>31379</td>\n      <td>85939</td>\n      <td>89765</td>\n      <td>71139</td>\n      <td>54137</td>\n      <td>48460</td>\n      <td>47424</td>\n      <td>41009</td>\n      <td>171256</td>\n    </tr>\n    <tr>\n      <th>4</th>\n      <td>61203</td>\n      <td>95197</td>\n      <td>86811</td>\n      <td>55459</td>\n      <td>37412</td>\n      <td>30741</td>\n      <td>86241</td>\n      <td>90462</td>\n      <td>70973</td>\n      <td>53485</td>\n      <td>47797</td>\n      <td>46428</td>\n      <td>41590</td>\n      <td>171416</td>\n    </tr>\n    <tr>\n      <th>5</th>\n      <td>60092</td>\n      <td>90665</td>\n      <td>83300</td>\n      <td>53896</td>\n      <td>36555</td>\n      <td>30291</td>\n      <td>83486</td>\n      <td>87055</td>\n      <td>69489</td>\n      <td>52368</td>\n      <td>46418</td>\n      <td>46171</td>\n      <td>42665</td>\n      <td>166148</td>\n    </tr>\n    <tr>\n      <th>...</th>\n      <th>...</th>\n      <td>...</td>\n      <td>...</td>\n      <td>...</td>\n      <td>...</td>\n      <td>...</td>\n      <td>...</td>\n      <td>...</td>\n      <td>...</td>\n      <td>...</td>\n      <td>...</td>\n      <td>...</td>\n      <td>...</td>\n      <td>...</td>\n      <td>...</td>\n    </tr>\n    <tr>\n      <th rowspan=\"5\" valign=\"top\">중랑구</th>\n      <th>8</th>\n      <td>22414</td>\n      <td>25087</td>\n      <td>25483</td>\n      <td>26933</td>\n      <td>20480</td>\n      <td>17314</td>\n      <td>23736</td>\n      <td>26447</td>\n      <td>27112</td>\n      <td>32352</td>\n      <td>25509</td>\n      <td>29839</td>\n      <td>6549</td>\n      <td>59405</td>\n    </tr>\n    <tr>\n      <th>9</th>\n      <td>22330</td>\n      <td>25460</td>\n      <td>25918</td>\n      <td>26971</td>\n      <td>20499</td>\n      <td>17458</td>\n      <td>23225</td>\n      <td>26691</td>\n      <td>27555</td>\n      <td>32493</td>\n      <td>25674</td>\n      <td>30347</td>\n      <td>6446</td>\n      <td>59758</td>\n    </tr>\n    <tr>\n      <th>10</th>\n      <td>22270</td>\n      <td>25160</td>\n      <td>25544</td>\n      <td>26632</td>\n      <td>20267</td>\n      <td>17233</td>\n      <td>23344</td>\n      <td>26911</td>\n      <td>27474</td>\n      <td>32525</td>\n      <td>25382</td>\n      <td>30051</td>\n      <td>6295</td>\n      <td>59200</td>\n    </tr>\n    <tr>\n      <th>11</th>\n      <td>21973</td>\n      <td>24895</td>\n      <td>25386</td>\n      <td>26560</td>\n      <td>20168</td>\n      <td>17397</td>\n      <td>23083</td>\n      <td>26794</td>\n      <td>27415</td>\n      <td>32516</td>\n      <td>25389</td>\n      <td>30038</td>\n      <td>6240</td>\n      <td>58834</td>\n    </tr>\n    <tr>\n      <th>12</th>\n      <td>22554</td>\n      <td>25234</td>\n      <td>25724</td>\n      <td>27297</td>\n      <td>21144</td>\n      <td>18240</td>\n      <td>23242</td>\n      <td>26811</td>\n      <td>27445</td>\n      <td>33106</td>\n      <td>26171</td>\n      <td>30704</td>\n      <td>6372</td>\n      <td>60119</td>\n    </tr>\n  </tbody>\n</table>\n<p>300 rows × 14 columns</p>\n</div>"
     },
     "execution_count": 5,
     "metadata": {},
     "output_type": "execute_result"
    }
   ],
   "source": [
    "people = people.round()\n",
    "people = people.astype('int')\n",
    "people"
   ]
  },
  {
   "cell_type": "code",
   "execution_count": null,
   "id": "bae8b361",
   "metadata": {},
   "outputs": [],
   "source": []
  }
 ],
 "metadata": {
  "kernelspec": {
   "display_name": "Python 3 (ipykernel)",
   "language": "python",
   "name": "python3"
  },
  "language_info": {
   "codemirror_mode": {
    "name": "ipython",
    "version": 3
   },
   "file_extension": ".py",
   "mimetype": "text/x-python",
   "name": "python",
   "nbconvert_exporter": "python",
   "pygments_lexer": "ipython3",
   "version": "3.9.7"
  }
 },
 "nbformat": 4,
 "nbformat_minor": 5
}