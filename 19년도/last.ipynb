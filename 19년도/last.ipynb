{
 "cells": [
  {
   "cell_type": "code",
   "execution_count": 1,
   "id": "ada494a2",
   "metadata": {},
   "outputs": [
    {
     "data": {
      "text/plain": "          남성연령_20  남성연령_30  남성연령_40  남성연령_50  남성연령_60  남성연령_70  여성연령_20  \\\n자치구코드 월                                                                   \n강남구   1   64321.0  92011.0  86743.0  56486.0  37015.0  30962.0  87841.0   \n      2   58003.0  83900.0  80016.0  52660.0  35057.0  29744.0  78905.0   \n      3   57495.0  91031.0  86799.0  55820.0  36481.0  30379.0  82202.0   \n      4   55916.0  90196.0  86086.0  55002.0  35601.0  29537.0  81480.0   \n      5   54722.0  86368.0  81992.0  52295.0  33817.0  27840.0  79805.0   \n...           ...      ...      ...      ...      ...      ...      ...   \n중랑구   8   21800.0  24509.0  25117.0  26612.0  20448.0  17774.0  23447.0   \n      9   21026.0  24640.0  25505.0  26825.0  20525.0  17817.0  23063.0   \n      10  20839.0  24413.0  25172.0  26402.0  20012.0  17410.0  23052.0   \n      11  20776.0  24200.0  25193.0  26665.0  20335.0  17794.0  23160.0   \n      12  21070.0  24655.0  25549.0  27108.0  20645.0  17880.0  23160.0   \n\n          여성연령_30  여성연령_40  여성연령_50  여성연령_60  여성연령_70      외국인  \n자치구코드 월                                                         \n강남구   1   88162.0  72402.0  53692.0  46891.0  45792.0  43858.0  \n      2   81077.0  67453.0  50293.0  44337.0  44046.0  39403.0  \n      3   87799.0  71748.0  52848.0  46384.0  45293.0  41448.0  \n      4   87569.0  71351.0  52124.0  45695.0  44090.0  41176.0  \n      5   84157.0  68556.0  49741.0  43450.0  41782.0  41945.0  \n...           ...      ...      ...      ...      ...      ...  \n중랑구   8   26148.0  26326.0  32015.0  25300.0  28980.0   6308.0  \n      9   26440.0  26619.0  32085.0  25487.0  29125.0   6258.0  \n      10  26090.0  26301.0  31675.0  25109.0  28459.0   6107.0  \n      11  26323.0  26805.0  32121.0  25637.0  28911.0   6131.0  \n      12  26444.0  26925.0  32275.0  25810.0  28960.0   6302.0  \n\n[300 rows x 13 columns]",
      "text/html": "<div>\n<style scoped>\n    .dataframe tbody tr th:only-of-type {\n        vertical-align: middle;\n    }\n\n    .dataframe tbody tr th {\n        vertical-align: top;\n    }\n\n    .dataframe thead th {\n        text-align: right;\n    }\n</style>\n<table border=\"1\" class=\"dataframe\">\n  <thead>\n    <tr style=\"text-align: right;\">\n      <th></th>\n      <th></th>\n      <th>남성연령_20</th>\n      <th>남성연령_30</th>\n      <th>남성연령_40</th>\n      <th>남성연령_50</th>\n      <th>남성연령_60</th>\n      <th>남성연령_70</th>\n      <th>여성연령_20</th>\n      <th>여성연령_30</th>\n      <th>여성연령_40</th>\n      <th>여성연령_50</th>\n      <th>여성연령_60</th>\n      <th>여성연령_70</th>\n      <th>외국인</th>\n    </tr>\n    <tr>\n      <th>자치구코드</th>\n      <th>월</th>\n      <th></th>\n      <th></th>\n      <th></th>\n      <th></th>\n      <th></th>\n      <th></th>\n      <th></th>\n      <th></th>\n      <th></th>\n      <th></th>\n      <th></th>\n      <th></th>\n      <th></th>\n    </tr>\n  </thead>\n  <tbody>\n    <tr>\n      <th rowspan=\"5\" valign=\"top\">강남구</th>\n      <th>1</th>\n      <td>64321.0</td>\n      <td>92011.0</td>\n      <td>86743.0</td>\n      <td>56486.0</td>\n      <td>37015.0</td>\n      <td>30962.0</td>\n      <td>87841.0</td>\n      <td>88162.0</td>\n      <td>72402.0</td>\n      <td>53692.0</td>\n      <td>46891.0</td>\n      <td>45792.0</td>\n      <td>43858.0</td>\n    </tr>\n    <tr>\n      <th>2</th>\n      <td>58003.0</td>\n      <td>83900.0</td>\n      <td>80016.0</td>\n      <td>52660.0</td>\n      <td>35057.0</td>\n      <td>29744.0</td>\n      <td>78905.0</td>\n      <td>81077.0</td>\n      <td>67453.0</td>\n      <td>50293.0</td>\n      <td>44337.0</td>\n      <td>44046.0</td>\n      <td>39403.0</td>\n    </tr>\n    <tr>\n      <th>3</th>\n      <td>57495.0</td>\n      <td>91031.0</td>\n      <td>86799.0</td>\n      <td>55820.0</td>\n      <td>36481.0</td>\n      <td>30379.0</td>\n      <td>82202.0</td>\n      <td>87799.0</td>\n      <td>71748.0</td>\n      <td>52848.0</td>\n      <td>46384.0</td>\n      <td>45293.0</td>\n      <td>41448.0</td>\n    </tr>\n    <tr>\n      <th>4</th>\n      <td>55916.0</td>\n      <td>90196.0</td>\n      <td>86086.0</td>\n      <td>55002.0</td>\n      <td>35601.0</td>\n      <td>29537.0</td>\n      <td>81480.0</td>\n      <td>87569.0</td>\n      <td>71351.0</td>\n      <td>52124.0</td>\n      <td>45695.0</td>\n      <td>44090.0</td>\n      <td>41176.0</td>\n    </tr>\n    <tr>\n      <th>5</th>\n      <td>54722.0</td>\n      <td>86368.0</td>\n      <td>81992.0</td>\n      <td>52295.0</td>\n      <td>33817.0</td>\n      <td>27840.0</td>\n      <td>79805.0</td>\n      <td>84157.0</td>\n      <td>68556.0</td>\n      <td>49741.0</td>\n      <td>43450.0</td>\n      <td>41782.0</td>\n      <td>41945.0</td>\n    </tr>\n    <tr>\n      <th>...</th>\n      <th>...</th>\n      <td>...</td>\n      <td>...</td>\n      <td>...</td>\n      <td>...</td>\n      <td>...</td>\n      <td>...</td>\n      <td>...</td>\n      <td>...</td>\n      <td>...</td>\n      <td>...</td>\n      <td>...</td>\n      <td>...</td>\n      <td>...</td>\n    </tr>\n    <tr>\n      <th rowspan=\"5\" valign=\"top\">중랑구</th>\n      <th>8</th>\n      <td>21800.0</td>\n      <td>24509.0</td>\n      <td>25117.0</td>\n      <td>26612.0</td>\n      <td>20448.0</td>\n      <td>17774.0</td>\n      <td>23447.0</td>\n      <td>26148.0</td>\n      <td>26326.0</td>\n      <td>32015.0</td>\n      <td>25300.0</td>\n      <td>28980.0</td>\n      <td>6308.0</td>\n    </tr>\n    <tr>\n      <th>9</th>\n      <td>21026.0</td>\n      <td>24640.0</td>\n      <td>25505.0</td>\n      <td>26825.0</td>\n      <td>20525.0</td>\n      <td>17817.0</td>\n      <td>23063.0</td>\n      <td>26440.0</td>\n      <td>26619.0</td>\n      <td>32085.0</td>\n      <td>25487.0</td>\n      <td>29125.0</td>\n      <td>6258.0</td>\n    </tr>\n    <tr>\n      <th>10</th>\n      <td>20839.0</td>\n      <td>24413.0</td>\n      <td>25172.0</td>\n      <td>26402.0</td>\n      <td>20012.0</td>\n      <td>17410.0</td>\n      <td>23052.0</td>\n      <td>26090.0</td>\n      <td>26301.0</td>\n      <td>31675.0</td>\n      <td>25109.0</td>\n      <td>28459.0</td>\n      <td>6107.0</td>\n    </tr>\n    <tr>\n      <th>11</th>\n      <td>20776.0</td>\n      <td>24200.0</td>\n      <td>25193.0</td>\n      <td>26665.0</td>\n      <td>20335.0</td>\n      <td>17794.0</td>\n      <td>23160.0</td>\n      <td>26323.0</td>\n      <td>26805.0</td>\n      <td>32121.0</td>\n      <td>25637.0</td>\n      <td>28911.0</td>\n      <td>6131.0</td>\n    </tr>\n    <tr>\n      <th>12</th>\n      <td>21070.0</td>\n      <td>24655.0</td>\n      <td>25549.0</td>\n      <td>27108.0</td>\n      <td>20645.0</td>\n      <td>17880.0</td>\n      <td>23160.0</td>\n      <td>26444.0</td>\n      <td>26925.0</td>\n      <td>32275.0</td>\n      <td>25810.0</td>\n      <td>28960.0</td>\n      <td>6302.0</td>\n    </tr>\n  </tbody>\n</table>\n<p>300 rows × 13 columns</p>\n</div>"
     },
     "execution_count": 1,
     "metadata": {},
     "output_type": "execute_result"
    }
   ],
   "source": [
    "import pandas as pd\n",
    "\n",
    "people = pd.read_csv('2019전처리.csv', index_col=[0,1])\n",
    "rate = pd.read_csv('흡연율2019.csv', index_col=0)\n",
    "\n",
    "people"
   ]
  },
  {
   "cell_type": "code",
   "execution_count": 2,
   "id": "c7d477cd",
   "metadata": {},
   "outputs": [
    {
     "data": {
      "text/plain": "       흡연율\n성연령별      \n남성20  37.8\n남성30  39.2\n남성40  37.9\n남성50  36.7\n남성60  30.1\n남성70  17.0\n여성20  10.2\n여성30   7.2\n여성40   6.5\n여성50   4.2\n여성60   4.4\n여성70   2.5\n외국인   20.2",
      "text/html": "<div>\n<style scoped>\n    .dataframe tbody tr th:only-of-type {\n        vertical-align: middle;\n    }\n\n    .dataframe tbody tr th {\n        vertical-align: top;\n    }\n\n    .dataframe thead th {\n        text-align: right;\n    }\n</style>\n<table border=\"1\" class=\"dataframe\">\n  <thead>\n    <tr style=\"text-align: right;\">\n      <th></th>\n      <th>흡연율</th>\n    </tr>\n    <tr>\n      <th>성연령별</th>\n      <th></th>\n    </tr>\n  </thead>\n  <tbody>\n    <tr>\n      <th>남성20</th>\n      <td>37.8</td>\n    </tr>\n    <tr>\n      <th>남성30</th>\n      <td>39.2</td>\n    </tr>\n    <tr>\n      <th>남성40</th>\n      <td>37.9</td>\n    </tr>\n    <tr>\n      <th>남성50</th>\n      <td>36.7</td>\n    </tr>\n    <tr>\n      <th>남성60</th>\n      <td>30.1</td>\n    </tr>\n    <tr>\n      <th>남성70</th>\n      <td>17.0</td>\n    </tr>\n    <tr>\n      <th>여성20</th>\n      <td>10.2</td>\n    </tr>\n    <tr>\n      <th>여성30</th>\n      <td>7.2</td>\n    </tr>\n    <tr>\n      <th>여성40</th>\n      <td>6.5</td>\n    </tr>\n    <tr>\n      <th>여성50</th>\n      <td>4.2</td>\n    </tr>\n    <tr>\n      <th>여성60</th>\n      <td>4.4</td>\n    </tr>\n    <tr>\n      <th>여성70</th>\n      <td>2.5</td>\n    </tr>\n    <tr>\n      <th>외국인</th>\n      <td>20.2</td>\n    </tr>\n  </tbody>\n</table>\n</div>"
     },
     "execution_count": 2,
     "metadata": {},
     "output_type": "execute_result"
    }
   ],
   "source": [
    "rate"
   ]
  },
  {
   "cell_type": "code",
   "execution_count": 3,
   "id": "d655b3e5",
   "metadata": {},
   "outputs": [
    {
     "data": {
      "text/plain": "자치구코드  월 \n강남구    1     164728.624\n       2     151468.844\n       3     160080.319\n       4     157915.932\n       5     151894.038\n                ...    \n중랑구    8      56752.289\n       9      56772.373\n       10     55979.656\n       11     56257.993\n       12     57019.279\nName: 남성연령_20, Length: 300, dtype: float64"
     },
     "execution_count": 3,
     "metadata": {},
     "output_type": "execute_result"
    }
   ],
   "source": [
    "smoker = 0\n",
    "\n",
    "for column, smoke_rate in zip(people, rate['흡연율']):\n",
    "    smoker += people[column].apply(lambda x: x * smoke_rate / 100)\n",
    "\n",
    "smoker"
   ]
  },
  {
   "cell_type": "code",
   "execution_count": 4,
   "id": "bed20ede",
   "metadata": {},
   "outputs": [
    {
     "data": {
      "text/plain": "          남성연령_20  남성연령_30  남성연령_40  남성연령_50  남성연령_60  남성연령_70  여성연령_20  \\\n자치구코드 월                                                                   \n강남구   1   64321.0  92011.0  86743.0  56486.0  37015.0  30962.0  87841.0   \n      2   58003.0  83900.0  80016.0  52660.0  35057.0  29744.0  78905.0   \n      3   57495.0  91031.0  86799.0  55820.0  36481.0  30379.0  82202.0   \n      4   55916.0  90196.0  86086.0  55002.0  35601.0  29537.0  81480.0   \n      5   54722.0  86368.0  81992.0  52295.0  33817.0  27840.0  79805.0   \n...           ...      ...      ...      ...      ...      ...      ...   \n중랑구   8   21800.0  24509.0  25117.0  26612.0  20448.0  17774.0  23447.0   \n      9   21026.0  24640.0  25505.0  26825.0  20525.0  17817.0  23063.0   \n      10  20839.0  24413.0  25172.0  26402.0  20012.0  17410.0  23052.0   \n      11  20776.0  24200.0  25193.0  26665.0  20335.0  17794.0  23160.0   \n      12  21070.0  24655.0  25549.0  27108.0  20645.0  17880.0  23160.0   \n\n          여성연령_30  여성연령_40  여성연령_50  여성연령_60  여성연령_70      외국인     총예상흡연자수  \n자치구코드 월                                                                     \n강남구   1   88162.0  72402.0  53692.0  46891.0  45792.0  43858.0  164728.624  \n      2   81077.0  67453.0  50293.0  44337.0  44046.0  39403.0  151468.844  \n      3   87799.0  71748.0  52848.0  46384.0  45293.0  41448.0  160080.319  \n      4   87569.0  71351.0  52124.0  45695.0  44090.0  41176.0  157915.932  \n      5   84157.0  68556.0  49741.0  43450.0  41782.0  41945.0  151894.038  \n...           ...      ...      ...      ...      ...      ...         ...  \n중랑구   8   26148.0  26326.0  32015.0  25300.0  28980.0   6308.0   56752.289  \n      9   26440.0  26619.0  32085.0  25487.0  29125.0   6258.0   56772.373  \n      10  26090.0  26301.0  31675.0  25109.0  28459.0   6107.0   55979.656  \n      11  26323.0  26805.0  32121.0  25637.0  28911.0   6131.0   56257.993  \n      12  26444.0  26925.0  32275.0  25810.0  28960.0   6302.0   57019.279  \n\n[300 rows x 14 columns]",
      "text/html": "<div>\n<style scoped>\n    .dataframe tbody tr th:only-of-type {\n        vertical-align: middle;\n    }\n\n    .dataframe tbody tr th {\n        vertical-align: top;\n    }\n\n    .dataframe thead th {\n        text-align: right;\n    }\n</style>\n<table border=\"1\" class=\"dataframe\">\n  <thead>\n    <tr style=\"text-align: right;\">\n      <th></th>\n      <th></th>\n      <th>남성연령_20</th>\n      <th>남성연령_30</th>\n      <th>남성연령_40</th>\n      <th>남성연령_50</th>\n      <th>남성연령_60</th>\n      <th>남성연령_70</th>\n      <th>여성연령_20</th>\n      <th>여성연령_30</th>\n      <th>여성연령_40</th>\n      <th>여성연령_50</th>\n      <th>여성연령_60</th>\n      <th>여성연령_70</th>\n      <th>외국인</th>\n      <th>총예상흡연자수</th>\n    </tr>\n    <tr>\n      <th>자치구코드</th>\n      <th>월</th>\n      <th></th>\n      <th></th>\n      <th></th>\n      <th></th>\n      <th></th>\n      <th></th>\n      <th></th>\n      <th></th>\n      <th></th>\n      <th></th>\n      <th></th>\n      <th></th>\n      <th></th>\n      <th></th>\n    </tr>\n  </thead>\n  <tbody>\n    <tr>\n      <th rowspan=\"5\" valign=\"top\">강남구</th>\n      <th>1</th>\n      <td>64321.0</td>\n      <td>92011.0</td>\n      <td>86743.0</td>\n      <td>56486.0</td>\n      <td>37015.0</td>\n      <td>30962.0</td>\n      <td>87841.0</td>\n      <td>88162.0</td>\n      <td>72402.0</td>\n      <td>53692.0</td>\n      <td>46891.0</td>\n      <td>45792.0</td>\n      <td>43858.0</td>\n      <td>164728.624</td>\n    </tr>\n    <tr>\n      <th>2</th>\n      <td>58003.0</td>\n      <td>83900.0</td>\n      <td>80016.0</td>\n      <td>52660.0</td>\n      <td>35057.0</td>\n      <td>29744.0</td>\n      <td>78905.0</td>\n      <td>81077.0</td>\n      <td>67453.0</td>\n      <td>50293.0</td>\n      <td>44337.0</td>\n      <td>44046.0</td>\n      <td>39403.0</td>\n      <td>151468.844</td>\n    </tr>\n    <tr>\n      <th>3</th>\n      <td>57495.0</td>\n      <td>91031.0</td>\n      <td>86799.0</td>\n      <td>55820.0</td>\n      <td>36481.0</td>\n      <td>30379.0</td>\n      <td>82202.0</td>\n      <td>87799.0</td>\n      <td>71748.0</td>\n      <td>52848.0</td>\n      <td>46384.0</td>\n      <td>45293.0</td>\n      <td>41448.0</td>\n      <td>160080.319</td>\n    </tr>\n    <tr>\n      <th>4</th>\n      <td>55916.0</td>\n      <td>90196.0</td>\n      <td>86086.0</td>\n      <td>55002.0</td>\n      <td>35601.0</td>\n      <td>29537.0</td>\n      <td>81480.0</td>\n      <td>87569.0</td>\n      <td>71351.0</td>\n      <td>52124.0</td>\n      <td>45695.0</td>\n      <td>44090.0</td>\n      <td>41176.0</td>\n      <td>157915.932</td>\n    </tr>\n    <tr>\n      <th>5</th>\n      <td>54722.0</td>\n      <td>86368.0</td>\n      <td>81992.0</td>\n      <td>52295.0</td>\n      <td>33817.0</td>\n      <td>27840.0</td>\n      <td>79805.0</td>\n      <td>84157.0</td>\n      <td>68556.0</td>\n      <td>49741.0</td>\n      <td>43450.0</td>\n      <td>41782.0</td>\n      <td>41945.0</td>\n      <td>151894.038</td>\n    </tr>\n    <tr>\n      <th>...</th>\n      <th>...</th>\n      <td>...</td>\n      <td>...</td>\n      <td>...</td>\n      <td>...</td>\n      <td>...</td>\n      <td>...</td>\n      <td>...</td>\n      <td>...</td>\n      <td>...</td>\n      <td>...</td>\n      <td>...</td>\n      <td>...</td>\n      <td>...</td>\n      <td>...</td>\n    </tr>\n    <tr>\n      <th rowspan=\"5\" valign=\"top\">중랑구</th>\n      <th>8</th>\n      <td>21800.0</td>\n      <td>24509.0</td>\n      <td>25117.0</td>\n      <td>26612.0</td>\n      <td>20448.0</td>\n      <td>17774.0</td>\n      <td>23447.0</td>\n      <td>26148.0</td>\n      <td>26326.0</td>\n      <td>32015.0</td>\n      <td>25300.0</td>\n      <td>28980.0</td>\n      <td>6308.0</td>\n      <td>56752.289</td>\n    </tr>\n    <tr>\n      <th>9</th>\n      <td>21026.0</td>\n      <td>24640.0</td>\n      <td>25505.0</td>\n      <td>26825.0</td>\n      <td>20525.0</td>\n      <td>17817.0</td>\n      <td>23063.0</td>\n      <td>26440.0</td>\n      <td>26619.0</td>\n      <td>32085.0</td>\n      <td>25487.0</td>\n      <td>29125.0</td>\n      <td>6258.0</td>\n      <td>56772.373</td>\n    </tr>\n    <tr>\n      <th>10</th>\n      <td>20839.0</td>\n      <td>24413.0</td>\n      <td>25172.0</td>\n      <td>26402.0</td>\n      <td>20012.0</td>\n      <td>17410.0</td>\n      <td>23052.0</td>\n      <td>26090.0</td>\n      <td>26301.0</td>\n      <td>31675.0</td>\n      <td>25109.0</td>\n      <td>28459.0</td>\n      <td>6107.0</td>\n      <td>55979.656</td>\n    </tr>\n    <tr>\n      <th>11</th>\n      <td>20776.0</td>\n      <td>24200.0</td>\n      <td>25193.0</td>\n      <td>26665.0</td>\n      <td>20335.0</td>\n      <td>17794.0</td>\n      <td>23160.0</td>\n      <td>26323.0</td>\n      <td>26805.0</td>\n      <td>32121.0</td>\n      <td>25637.0</td>\n      <td>28911.0</td>\n      <td>6131.0</td>\n      <td>56257.993</td>\n    </tr>\n    <tr>\n      <th>12</th>\n      <td>21070.0</td>\n      <td>24655.0</td>\n      <td>25549.0</td>\n      <td>27108.0</td>\n      <td>20645.0</td>\n      <td>17880.0</td>\n      <td>23160.0</td>\n      <td>26444.0</td>\n      <td>26925.0</td>\n      <td>32275.0</td>\n      <td>25810.0</td>\n      <td>28960.0</td>\n      <td>6302.0</td>\n      <td>57019.279</td>\n    </tr>\n  </tbody>\n</table>\n<p>300 rows × 14 columns</p>\n</div>"
     },
     "execution_count": 4,
     "metadata": {},
     "output_type": "execute_result"
    }
   ],
   "source": [
    "people['총예상흡연자수'] = smoker\n",
    "people"
   ]
  },
  {
   "cell_type": "code",
   "execution_count": 5,
   "id": "e99933b7",
   "metadata": {},
   "outputs": [
    {
     "data": {
      "text/plain": "          남성연령_20  남성연령_30  남성연령_40  남성연령_50  남성연령_60  남성연령_70  여성연령_20  \\\n자치구코드 월                                                                   \n강남구   1     64321    92011    86743    56486    37015    30962    87841   \n      2     58003    83900    80016    52660    35057    29744    78905   \n      3     57495    91031    86799    55820    36481    30379    82202   \n      4     55916    90196    86086    55002    35601    29537    81480   \n      5     54722    86368    81992    52295    33817    27840    79805   \n...           ...      ...      ...      ...      ...      ...      ...   \n중랑구   8     21800    24509    25117    26612    20448    17774    23447   \n      9     21026    24640    25505    26825    20525    17817    23063   \n      10    20839    24413    25172    26402    20012    17410    23052   \n      11    20776    24200    25193    26665    20335    17794    23160   \n      12    21070    24655    25549    27108    20645    17880    23160   \n\n          여성연령_30  여성연령_40  여성연령_50  여성연령_60  여성연령_70    외국인  총예상흡연자수  \n자치구코드 월                                                                \n강남구   1     88162    72402    53692    46891    45792  43858   164729  \n      2     81077    67453    50293    44337    44046  39403   151469  \n      3     87799    71748    52848    46384    45293  41448   160080  \n      4     87569    71351    52124    45695    44090  41176   157916  \n      5     84157    68556    49741    43450    41782  41945   151894  \n...           ...      ...      ...      ...      ...    ...      ...  \n중랑구   8     26148    26326    32015    25300    28980   6308    56752  \n      9     26440    26619    32085    25487    29125   6258    56772  \n      10    26090    26301    31675    25109    28459   6107    55980  \n      11    26323    26805    32121    25637    28911   6131    56258  \n      12    26444    26925    32275    25810    28960   6302    57019  \n\n[300 rows x 14 columns]",
      "text/html": "<div>\n<style scoped>\n    .dataframe tbody tr th:only-of-type {\n        vertical-align: middle;\n    }\n\n    .dataframe tbody tr th {\n        vertical-align: top;\n    }\n\n    .dataframe thead th {\n        text-align: right;\n    }\n</style>\n<table border=\"1\" class=\"dataframe\">\n  <thead>\n    <tr style=\"text-align: right;\">\n      <th></th>\n      <th></th>\n      <th>남성연령_20</th>\n      <th>남성연령_30</th>\n      <th>남성연령_40</th>\n      <th>남성연령_50</th>\n      <th>남성연령_60</th>\n      <th>남성연령_70</th>\n      <th>여성연령_20</th>\n      <th>여성연령_30</th>\n      <th>여성연령_40</th>\n      <th>여성연령_50</th>\n      <th>여성연령_60</th>\n      <th>여성연령_70</th>\n      <th>외국인</th>\n      <th>총예상흡연자수</th>\n    </tr>\n    <tr>\n      <th>자치구코드</th>\n      <th>월</th>\n      <th></th>\n      <th></th>\n      <th></th>\n      <th></th>\n      <th></th>\n      <th></th>\n      <th></th>\n      <th></th>\n      <th></th>\n      <th></th>\n      <th></th>\n      <th></th>\n      <th></th>\n      <th></th>\n    </tr>\n  </thead>\n  <tbody>\n    <tr>\n      <th rowspan=\"5\" valign=\"top\">강남구</th>\n      <th>1</th>\n      <td>64321</td>\n      <td>92011</td>\n      <td>86743</td>\n      <td>56486</td>\n      <td>37015</td>\n      <td>30962</td>\n      <td>87841</td>\n      <td>88162</td>\n      <td>72402</td>\n      <td>53692</td>\n      <td>46891</td>\n      <td>45792</td>\n      <td>43858</td>\n      <td>164729</td>\n    </tr>\n    <tr>\n      <th>2</th>\n      <td>58003</td>\n      <td>83900</td>\n      <td>80016</td>\n      <td>52660</td>\n      <td>35057</td>\n      <td>29744</td>\n      <td>78905</td>\n      <td>81077</td>\n      <td>67453</td>\n      <td>50293</td>\n      <td>44337</td>\n      <td>44046</td>\n      <td>39403</td>\n      <td>151469</td>\n    </tr>\n    <tr>\n      <th>3</th>\n      <td>57495</td>\n      <td>91031</td>\n      <td>86799</td>\n      <td>55820</td>\n      <td>36481</td>\n      <td>30379</td>\n      <td>82202</td>\n      <td>87799</td>\n      <td>71748</td>\n      <td>52848</td>\n      <td>46384</td>\n      <td>45293</td>\n      <td>41448</td>\n      <td>160080</td>\n    </tr>\n    <tr>\n      <th>4</th>\n      <td>55916</td>\n      <td>90196</td>\n      <td>86086</td>\n      <td>55002</td>\n      <td>35601</td>\n      <td>29537</td>\n      <td>81480</td>\n      <td>87569</td>\n      <td>71351</td>\n      <td>52124</td>\n      <td>45695</td>\n      <td>44090</td>\n      <td>41176</td>\n      <td>157916</td>\n    </tr>\n    <tr>\n      <th>5</th>\n      <td>54722</td>\n      <td>86368</td>\n      <td>81992</td>\n      <td>52295</td>\n      <td>33817</td>\n      <td>27840</td>\n      <td>79805</td>\n      <td>84157</td>\n      <td>68556</td>\n      <td>49741</td>\n      <td>43450</td>\n      <td>41782</td>\n      <td>41945</td>\n      <td>151894</td>\n    </tr>\n    <tr>\n      <th>...</th>\n      <th>...</th>\n      <td>...</td>\n      <td>...</td>\n      <td>...</td>\n      <td>...</td>\n      <td>...</td>\n      <td>...</td>\n      <td>...</td>\n      <td>...</td>\n      <td>...</td>\n      <td>...</td>\n      <td>...</td>\n      <td>...</td>\n      <td>...</td>\n      <td>...</td>\n    </tr>\n    <tr>\n      <th rowspan=\"5\" valign=\"top\">중랑구</th>\n      <th>8</th>\n      <td>21800</td>\n      <td>24509</td>\n      <td>25117</td>\n      <td>26612</td>\n      <td>20448</td>\n      <td>17774</td>\n      <td>23447</td>\n      <td>26148</td>\n      <td>26326</td>\n      <td>32015</td>\n      <td>25300</td>\n      <td>28980</td>\n      <td>6308</td>\n      <td>56752</td>\n    </tr>\n    <tr>\n      <th>9</th>\n      <td>21026</td>\n      <td>24640</td>\n      <td>25505</td>\n      <td>26825</td>\n      <td>20525</td>\n      <td>17817</td>\n      <td>23063</td>\n      <td>26440</td>\n      <td>26619</td>\n      <td>32085</td>\n      <td>25487</td>\n      <td>29125</td>\n      <td>6258</td>\n      <td>56772</td>\n    </tr>\n    <tr>\n      <th>10</th>\n      <td>20839</td>\n      <td>24413</td>\n      <td>25172</td>\n      <td>26402</td>\n      <td>20012</td>\n      <td>17410</td>\n      <td>23052</td>\n      <td>26090</td>\n      <td>26301</td>\n      <td>31675</td>\n      <td>25109</td>\n      <td>28459</td>\n      <td>6107</td>\n      <td>55980</td>\n    </tr>\n    <tr>\n      <th>11</th>\n      <td>20776</td>\n      <td>24200</td>\n      <td>25193</td>\n      <td>26665</td>\n      <td>20335</td>\n      <td>17794</td>\n      <td>23160</td>\n      <td>26323</td>\n      <td>26805</td>\n      <td>32121</td>\n      <td>25637</td>\n      <td>28911</td>\n      <td>6131</td>\n      <td>56258</td>\n    </tr>\n    <tr>\n      <th>12</th>\n      <td>21070</td>\n      <td>24655</td>\n      <td>25549</td>\n      <td>27108</td>\n      <td>20645</td>\n      <td>17880</td>\n      <td>23160</td>\n      <td>26444</td>\n      <td>26925</td>\n      <td>32275</td>\n      <td>25810</td>\n      <td>28960</td>\n      <td>6302</td>\n      <td>57019</td>\n    </tr>\n  </tbody>\n</table>\n<p>300 rows × 14 columns</p>\n</div>"
     },
     "execution_count": 5,
     "metadata": {},
     "output_type": "execute_result"
    }
   ],
   "source": [
    "people = people.round()\n",
    "people = people.astype('int')\n",
    "people"
   ]
  },
  {
   "cell_type": "code",
   "execution_count": null,
   "id": "bae8b361",
   "metadata": {},
   "outputs": [],
   "source": []
  }
 ],
 "metadata": {
  "kernelspec": {
   "display_name": "Python 3 (ipykernel)",
   "language": "python",
   "name": "python3"
  },
  "language_info": {
   "codemirror_mode": {
    "name": "ipython",
    "version": 3
   },
   "file_extension": ".py",
   "mimetype": "text/x-python",
   "name": "python",
   "nbconvert_exporter": "python",
   "pygments_lexer": "ipython3",
   "version": "3.9.7"
  }
 },
 "nbformat": 4,
 "nbformat_minor": 5
}